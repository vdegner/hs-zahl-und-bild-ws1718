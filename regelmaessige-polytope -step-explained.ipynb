{
 "cells": [
  {
   "cell_type": "markdown",
   "metadata": {},
   "source": [
    "# Regelmäßige Polytope"
   ]
  },
  {
   "cell_type": "code",
   "execution_count": 1,
   "metadata": {},
   "outputs": [
    {
     "name": "stdout",
     "output_type": "stream",
     "text": [
      "Populating the interactive namespace from numpy and matplotlib\n"
     ]
    }
   ],
   "source": [
    "%pylab inline\n",
    "\n",
    "from polytopes import Hypercube\n",
    "from mpl_toolkits.mplot3d import Axes3D"
   ]
  },
  {
   "cell_type": "markdown",
   "metadata": {},
   "source": [
    "# Dimension festlegen"
   ]
  },
  {
   "cell_type": "code",
   "execution_count": 2,
   "metadata": {},
   "outputs": [],
   "source": [
    "N = 5"
   ]
  },
  {
   "cell_type": "markdown",
   "metadata": {},
   "source": [
    "# Polytop generieren / importieren\n",
    "Wir basteln uns einen Hyperwürfel in $N$ Dimensionen."
   ]
  },
  {
   "cell_type": "code",
   "execution_count": 3,
   "metadata": {},
   "outputs": [],
   "source": [
    "hc = Hypercube(N)"
   ]
  },
  {
   "cell_type": "markdown",
   "metadata": {},
   "source": [
    "## Projektionsmatrix bauen\n",
    "Jetzt brauchen wir eine Orhtonormalbasis $B$, die die beiden Basisvektoren enthält, welche die Ebene aufspannen, auf die wir projizieren wollen. Wir bauen uns diese Matrix sukzessive und gehen von der Identitätsmatrix aus."
   ]
  },
  {
   "cell_type": "code",
   "execution_count": 4,
   "metadata": {},
   "outputs": [
    {
     "data": {
      "text/plain": [
       "array([[1., 0., 0., 0., 0.],\n",
       "       [0., 1., 0., 0., 0.],\n",
       "       [0., 0., 1., 0., 0.],\n",
       "       [0., 0., 0., 1., 0.],\n",
       "       [0., 0., 0., 0., 1.]])"
      ]
     },
     "execution_count": 4,
     "metadata": {},
     "output_type": "execute_result"
    }
   ],
   "source": [
    "B = np.identity(N)\n",
    "B"
   ]
  },
  {
   "cell_type": "markdown",
   "metadata": {},
   "source": [
    "Jetzt wir als einen Basisvektor die Diagonale $e_1 = (1, 1, ..., 1) $ durch den Würfel und normieren."
   ]
  },
  {
   "cell_type": "code",
   "execution_count": 5,
   "metadata": {},
   "outputs": [
    {
     "data": {
      "text/plain": [
       "array([[0.4472136, 0.       , 0.       , 0.       , 0.       ],\n",
       "       [0.4472136, 1.       , 0.       , 0.       , 0.       ],\n",
       "       [0.4472136, 0.       , 1.       , 0.       , 0.       ],\n",
       "       [0.4472136, 0.       , 0.       , 1.       , 0.       ],\n",
       "       [0.4472136, 0.       , 0.       , 0.       , 1.       ]])"
      ]
     },
     "execution_count": 5,
     "metadata": {},
     "output_type": "execute_result"
    }
   ],
   "source": [
    "B[:, 0] = 1 / sqrt(N)\n",
    "B"
   ]
  },
  {
   "cell_type": "markdown",
   "metadata": {},
   "source": [
    "Mit dem [Gram-Schmidt-Verfahren](https://de.wikipedia.org/wiki/Gram-Schmidtsches_Orthogonalisierungsverfahren) finden wir die übrigen Vektoren unserer Orthonormalbasis."
   ]
  },
  {
   "cell_type": "code",
   "execution_count": 6,
   "metadata": {},
   "outputs": [
    {
     "name": "stdout",
     "output_type": "stream",
     "text": [
      "Orthogonalisierte Matrix\n",
      "[[ 4.47213595e-01 -2.00000000e-01 -2.50000000e-01 -3.33333333e-01\n",
      "  -5.00000000e-01]\n",
      " [ 4.47213595e-01  8.00000000e-01 -5.55111512e-17 -4.62592927e-17\n",
      "  -6.93889390e-17]\n",
      " [ 4.47213595e-01 -2.00000000e-01  7.50000000e-01  0.00000000e+00\n",
      "   0.00000000e+00]\n",
      " [ 4.47213595e-01 -2.00000000e-01 -2.50000000e-01  6.66666667e-01\n",
      "  -5.55111512e-17]\n",
      " [ 4.47213595e-01 -2.00000000e-01 -2.50000000e-01 -3.33333333e-01\n",
      "   5.00000000e-01]]\n"
     ]
    }
   ],
   "source": [
    "# Gram-Schmidt-Verfahren\n",
    "i = 1\n",
    "while i < N:\n",
    "    j = 0\n",
    "    while j < i:\n",
    "        B[:, i] -= np.dot(B[:, i], B[:, j]) / np.dot(B[:,j], B[:,j]) * B[:, j]\n",
    "        j += 1\n",
    "    i += 1\n",
    "    \n",
    "B = np.matrix(B)\n",
    "print(\"Orthogonalisierte Matrix\")\n",
    "print(B)"
   ]
  },
  {
   "cell_type": "markdown",
   "metadata": {},
   "source": [
    "Bezüglich unserer neuen Basis $B$ sieht die Abbildungsmatrix $P$ der Projektion sehr einfach aus. Wir _schneiden_ einfach die entsprechenden Basisvektoren weg. "
   ]
  },
  {
   "cell_type": "code",
   "execution_count": 7,
   "metadata": {},
   "outputs": [
    {
     "data": {
      "text/plain": [
       "matrix([[0., 0., 0., 0., 0.],\n",
       "        [0., 1., 0., 0., 0.],\n",
       "        [0., 0., 1., 0., 0.],\n",
       "        [0., 0., 0., 1., 0.],\n",
       "        [0., 0., 0., 0., 1.]])"
      ]
     },
     "execution_count": 7,
     "metadata": {},
     "output_type": "execute_result"
    }
   ],
   "source": [
    "A = np.identity(N)\n",
    "A[:,0] = 0\n",
    "A = np.matrix(A)\n",
    "A"
   ]
  },
  {
   "cell_type": "markdown",
   "metadata": {},
   "source": [
    "Die gesamte Projektionsabbildung $P$ ergibt sich dann aus dem Matrixprodukt $A \\cdot B^{-1}$."
   ]
  },
  {
   "cell_type": "code",
   "execution_count": 8,
   "metadata": {},
   "outputs": [
    {
     "data": {
      "text/plain": [
       "matrix([[ 0.        ,  0.        ,  0.        ,  0.        ,  0.        ],\n",
       "        [-0.25      ,  1.        , -0.25      , -0.25      , -0.25      ],\n",
       "        [-0.33333333,  0.        ,  1.        , -0.33333333, -0.33333333],\n",
       "        [-0.5       ,  0.        ,  0.        ,  1.        , -0.5       ],\n",
       "        [-1.        ,  0.        ,  0.        ,  0.        ,  1.        ]])"
      ]
     },
     "execution_count": 8,
     "metadata": {},
     "output_type": "execute_result"
    }
   ],
   "source": [
    "P = A * B.I\n",
    "P"
   ]
  },
  {
   "cell_type": "markdown",
   "metadata": {},
   "source": [
    "Nach der Projektion müssen wir die unnötigen Basisvektoren mit der Matrix $C$ abschneiden. Wir behalten einfach die letzten zwei Vektoren der Basis $B$"
   ]
  },
  {
   "cell_type": "code",
   "execution_count": 9,
   "metadata": {},
   "outputs": [
    {
     "data": {
      "text/plain": [
       "array([[0., 0.],\n",
       "       [0., 0.],\n",
       "       [0., 0.],\n",
       "       [1., 0.],\n",
       "       [0., 1.]])"
      ]
     },
     "execution_count": 9,
     "metadata": {},
     "output_type": "execute_result"
    }
   ],
   "source": [
    "C = np.identity(N)\n",
    "C = C[:,-2:]\n",
    "C[:,:-2] = 0\n",
    "C"
   ]
  },
  {
   "cell_type": "code",
   "execution_count": 10,
   "metadata": {},
   "outputs": [],
   "source": [
    "def proj(pts, P, C):\n",
    "    return np.array([np.array(P.dot(pt) * C).flatten() for pt in pts])"
   ]
  },
  {
   "cell_type": "markdown",
   "metadata": {},
   "source": [
    "# Koordinaten projizieren"
   ]
  },
  {
   "cell_type": "markdown",
   "metadata": {},
   "source": [
    "Wir zentrieren den Würfel um den Punkt $(0,0, ..., 0)$ und speichern die Koordinaten."
   ]
  },
  {
   "cell_type": "code",
   "execution_count": 11,
   "metadata": {},
   "outputs": [
    {
     "data": {
      "text/plain": [
       "array([[ 0. ,  0. ],\n",
       "       [-0.5, -1. ],\n",
       "       [ 0. ,  0. ],\n",
       "       [-0.5, -1. ],\n",
       "       [ 0. ,  0. ],\n",
       "       [-0.5, -1. ],\n",
       "       [ 0. ,  0. ],\n",
       "       [-0.5, -1. ],\n",
       "       [ 1. ,  0. ],\n",
       "       [ 0.5, -1. ],\n",
       "       [ 1. ,  0. ],\n",
       "       [ 0.5, -1. ],\n",
       "       [ 1. ,  0. ],\n",
       "       [ 0.5, -1. ],\n",
       "       [ 1. ,  0. ],\n",
       "       [ 0.5, -1. ],\n",
       "       [-0.5,  1. ],\n",
       "       [-1. ,  0. ],\n",
       "       [-0.5,  1. ],\n",
       "       [-1. ,  0. ],\n",
       "       [-0.5,  1. ],\n",
       "       [-1. ,  0. ],\n",
       "       [-0.5,  1. ],\n",
       "       [-1. ,  0. ],\n",
       "       [ 0.5,  1. ],\n",
       "       [ 0. ,  0. ],\n",
       "       [ 0.5,  1. ],\n",
       "       [ 0. ,  0. ],\n",
       "       [ 0.5,  1. ],\n",
       "       [ 0. ,  0. ],\n",
       "       [ 0.5,  1. ],\n",
       "       [ 0. ,  0. ]])"
      ]
     },
     "execution_count": 11,
     "metadata": {},
     "output_type": "execute_result"
    }
   ],
   "source": [
    "# project coordinates\n",
    "PTS = hc.coordinates - np.ones(N) * 0.5\n",
    "pts = proj(PTS, P, C)\n",
    "pts"
   ]
  },
  {
   "cell_type": "code",
   "execution_count": 12,
   "metadata": {},
   "outputs": [],
   "source": [
    "EDGES = hc.edges - np.ones(N) * 0.5\n",
    "edges = zeros((N * 2**(N-1), 2, 2))\n",
    "for i in [0, 1]:\n",
    "    edges[:,i] = proj(EDGES[:,i], P, C)"
   ]
  },
  {
   "cell_type": "markdown",
   "metadata": {},
   "source": [
    "# Plotten"
   ]
  },
  {
   "cell_type": "code",
   "execution_count": 13,
   "metadata": {},
   "outputs": [
    {
     "data": {
      "image/png": "[encoded data removed]",
      "text/plain": [
       "<matplotlib.figure.Figure at 0x7f5c4cd6f978>"
      ]
     },
     "metadata": {},
     "output_type": "display_data"
    }
   ],
   "source": [
    "# get coordinates in readable form\n",
    "\n",
    "# initialize plot\n",
    "fig = plt.figure(figsize=(10, 10))\n",
    "ax = fig.add_subplot(111)\n",
    "ax.axis(\"off\")\n",
    "\n",
    "# plot vertices\n",
    "x, y = pts[:, 0], pts[:, 1]\n",
    "ax.scatter(x, y, c=\"b\")\n",
    "\n",
    "# plot edges\n",
    "for edge in edges:\n",
    "    x = edge[:, 0]\n",
    "    y = edge[:, 1]\n",
    "    ax.plot(x, y, c=\"b\")\n",
    "\n",
    "# save and show plots\n",
    "plt.savefig(\"first-projection.png\")\n",
    "plt.show()"
   ]
  },
  {
   "cell_type": "markdown",
   "metadata": {},
   "source": []
  }
 ],
 "metadata": {
  "kernelspec": {
   "display_name": "Python 3",
   "language": "python",
   "name": "python3"
  },
  "language_info": {
   "codemirror_mode": {
    "name": "ipython",
    "version": 3
   },
   "file_extension": ".py",
   "mimetype": "text/x-python",
   "name": "python",
   "nbconvert_exporter": "python",
   "pygments_lexer": "ipython3",
   "version": "3.6.4"
  }
 },
 "nbformat": 4,
 "nbformat_minor": 2
}
