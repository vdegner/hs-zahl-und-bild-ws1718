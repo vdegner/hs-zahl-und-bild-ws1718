{
 "cells": [
  {
   "cell_type": "code",
   "execution_count": 1,
   "metadata": {
    "ExecuteTime": {
     "end_time": "2018-02-16T00:17:09.719093Z",
     "start_time": "2018-02-16T00:17:08.873745Z"
    },
    "collapsed": false
   },
   "outputs": [
    {
     "name": "stdout",
     "output_type": "stream",
     "text": [
      "Populating the interactive namespace from numpy and matplotlib\n"
     ]
    }
   ],
   "source": [
    "%pylab inline\n",
    "\n",
    "from mpl_toolkits.mplot3d import Axes3D"
   ]
  },
  {
   "cell_type": "markdown",
   "metadata": {},
   "source": [
    "# Hyperwürfel basteln"
   ]
  },
  {
   "cell_type": "code",
   "execution_count": 2,
   "metadata": {
    "ExecuteTime": {
     "end_time": "2018-02-16T00:17:10.867459Z",
     "start_time": "2018-02-16T00:17:10.837276Z"
    },
    "collapsed": false
   },
   "outputs": [],
   "source": [
    "class HyperCell:\n",
    "    \"\"\"\n",
    "    Simple (n-1)-dimensional cell of a hypercube.\n",
    "    \"\"\"\n",
    "    def __init__(self, parent, idx, value):\n",
    "        self.dimension = parent.dimension - 1\n",
    "        self.coordinates = array([pt for pt in parent.coordinates if pt[idx] == value])\n",
    "        self.full_coordinates = self.coordinates.copy()\n",
    "        self.coordinates = np.delete(self.coordinates, idx, 1)\n",
    "        \n",
    "        if self.dimension > 1:\n",
    "            self.calculate_subcells()\n",
    "        \n",
    "    def calculate_subcells(self):\n",
    "        \"\"\"\n",
    "        Calculate subcells of hypercube.\n",
    "        \"\"\"\n",
    "        self.childs = []\n",
    "\n",
    "        for value in [0,1]:\n",
    "            for idx in range(self.dimension):\n",
    "                child = HyperCell(self, idx, value)\n",
    "                self.childs.append(child)\n",
    "        self.childs = array(self.childs)"
   ]
  },
  {
   "cell_type": "code",
   "execution_count": 5,
   "metadata": {
    "ExecuteTime": {
     "end_time": "2018-02-16T00:17:30.117544Z",
     "start_time": "2018-02-16T00:17:30.046452Z"
    },
    "collapsed": true
   },
   "outputs": [],
   "source": [
    "class Hypercube:\n",
    "    \"\"\"\n",
    "    Simple n-dimensional hypercube.\n",
    "    \"\"\"\n",
    "    def __init__(self, dimension):\n",
    "        \"\"\"\n",
    "        Create hypercube in n-dimension.\n",
    "        \n",
    "        params\n",
    "        ------\n",
    "        dimension: int, dimension of hypercube\n",
    "        \n",
    "        returns\n",
    "        -------\n",
    "        hypercube class instance\n",
    "        \"\"\"\n",
    "        self.dimension = dimension\n",
    "        \n",
    "        self.compute_coordinates(self.dimension)\n",
    "        \n",
    "        self.calculate_subcells()\n",
    "        \n",
    "        self.calculate_edges()\n",
    "            \n",
    "    def compute_coordinates(self, dimension):\n",
    "        \"\"\"\n",
    "        Compute coordinates of (n+1)-dimensional hypercube from n-dimensional base.\n",
    "        \"\"\"\n",
    "        n, coords = 1, [[0], [1]]\n",
    "        while n < dimension:\n",
    "            newcoords = []\n",
    "            for p in coords:\n",
    "                pp = p.copy()\n",
    "                p.insert(0, 0)\n",
    "                pp.insert(0, 1)\n",
    "                newcoords.append(p)\n",
    "                newcoords.append(pp)\n",
    "            coords = newcoords\n",
    "            n += 1\n",
    "        self.coordinates = np.array(coords)\n",
    "        \n",
    "    def calculate_subcells(self):\n",
    "        \"\"\"\n",
    "        Calculate subcells of hypercube.\n",
    "        \"\"\"\n",
    "        self.childs = []\n",
    "\n",
    "        for value in [0,1]:\n",
    "            for idx in range(self.dimension):\n",
    "                child = HyperCell(self, idx, value)\n",
    "                self.childs.append(child)\n",
    "        self.childs = np.array(self.childs)\n",
    "        \n",
    "    def calculate_edges(self):\n",
    "        edges = []\n",
    "        pts = self.coordinates\n",
    "        for i in range(len(pts)):\n",
    "            pt = pts[i]\n",
    "            j = 0\n",
    "            for j in range(i, len(pts)):\n",
    "                PT = pts[j]\n",
    "                if (np.linalg.norm(pt - PT) == 1):\n",
    "                    edges.append([pt, PT])\n",
    "        self.edges = np.array(edges)\n",
    "\n",
    "                    "
   ]
  },
  {
   "cell_type": "code",
   "execution_count": 41,
   "metadata": {
    "ExecuteTime": {
     "end_time": "2018-02-16T00:34:34.205479Z",
     "start_time": "2018-02-16T00:34:33.256087Z"
    },
    "collapsed": false,
    "scrolled": true
   },
   "outputs": [
    {
     "name": "stdout",
     "output_type": "stream",
     "text": [
      "System lin. unabhängiger Vektoren\n",
      "[[ 1.  0.  0.]\n",
      " [ 1.  1.  0.]\n",
      " [ 1.  0.  1.]]\n",
      "Orthogonalisierte Matrix\n",
      "[[  1.00000000e+00  -3.33333333e-01  -5.00000000e-01]\n",
      " [  1.00000000e+00   6.66666667e-01   5.55111512e-17]\n",
      " [  1.00000000e+00  -3.33333333e-01   5.00000000e-01]]\n",
      "Abbildung bezüglich neuer Basis\n",
      "[[ 0.  0.  0.]\n",
      " [ 0.  1.  0.]\n",
      " [ 0.  0.  1.]]\n",
      "Abbildung bezüglich Standardbasis\n",
      "[[ 0.66666667 -0.33333333 -0.33333333]\n",
      " [-0.33333333  0.66666667 -0.33333333]\n",
      " [-0.33333333 -0.33333333  0.66666667]]\n",
      "Koordinaten\n",
      "[[-0.5 -0.5 -0.5]\n",
      " [ 0.5 -0.5 -0.5]\n",
      " [-0.5  0.5 -0.5]\n",
      " [ 0.5  0.5 -0.5]\n",
      " [-0.5 -0.5  0.5]\n",
      " [ 0.5 -0.5  0.5]\n",
      " [-0.5  0.5  0.5]\n",
      " [ 0.5  0.5  0.5]]\n",
      "projected coordinates\n",
      "[[  2.77555756e-17   0.00000000e+00   2.77555756e-17]\n",
      " [  6.66666667e-01  -3.33333333e-01  -3.33333333e-01]\n",
      " [ -3.33333333e-01   6.66666667e-01  -3.33333333e-01]\n",
      " [  3.33333333e-01   3.33333333e-01  -6.66666667e-01]\n",
      " [ -3.33333333e-01  -3.33333333e-01   6.66666667e-01]\n",
      " [  3.33333333e-01  -6.66666667e-01   3.33333333e-01]\n",
      " [ -6.66666667e-01   3.33333333e-01   3.33333333e-01]\n",
      " [ -2.77555756e-17   0.00000000e+00  -2.77555756e-17]]\n"
     ]
    },
    {
     "data": {
      "image/png": "[encoded data removed]",
      "text/plain": [
       "<matplotlib.figure.Figure at 0x7f505f4a09b0>"
      ]
     },
     "metadata": {},
     "output_type": "display_data"
    }
   ],
   "source": [
    "# define dimension and hypercube\n",
    "N = 3\n",
    "hc = Hypercube(N)\n",
    "\n",
    "# neue Basis bestimmen\n",
    "B = np.identity(N)\n",
    "B[:, 0] = 1\n",
    "\n",
    "print(\"System lin. unabhängiger Vektoren\")\n",
    "print(B)\n",
    "\n",
    "# Gram-Schmidt-Verfahren\n",
    "i = 1\n",
    "while i < N:\n",
    "    j = 0\n",
    "    while j < i:\n",
    "        B[:, i] -= np.dot(B[:, i], B[:, j]) / np.dot(B[:,j], B[:,j]) * B[:, j]\n",
    "        j += 1\n",
    "    i += 1\n",
    "    \n",
    "B = np.matrix(B)\n",
    "print(\"Orthogonalisierte Matrix\")\n",
    "print(B)\n",
    "\n",
    "# Abbildungsmatrix\n",
    "P = np.identity(N)\n",
    "P[:, 0] = 0\n",
    "print(\"Abbildung bezüglich neuer Basis\")\n",
    "print(P)\n",
    "\n",
    "A = B * P * B.I\n",
    "print(\"Abbildung bezüglich Standardbasis\")\n",
    "print(A)\n",
    "\n",
    "# get coordinates\n",
    "pts = hc.coordinates - np.ones(N) * 0.5\n",
    "print(\"Koordinaten\")\n",
    "print(pts)\n",
    "X = pts[:,0]\n",
    "Y = pts[:,1]\n",
    "Z = pts[:,2]\n",
    "\n",
    "# project coordinates\n",
    "pts = np.array([np.array(A.dot(pt)).flatten() for pt in pts])\n",
    "print(\"projected coordinates\")\n",
    "print(pts)\n",
    "x = pts[:,0]\n",
    "y = pts[:,1]\n",
    "z = pts[:,2]\n",
    "\n",
    "# get edges\n",
    "EDGES = hc.edges - np.ones(N) * 0.5\n",
    "\n",
    "\n",
    "# project edges\n",
    "edges[:, 0] = np.array([np.array(A.dot(pt)).flatten() for pt in edges[:, 0]])\n",
    "edges[:, 1] = np.array([np.array(A.dot(pt)).flatten() for pt in edges[:, 1]])\n",
    "\n",
    "# plot\n",
    "fig = plt.figure(figsize=(10, 10))\n",
    "ax = fig.add_subplot(111, projection=\"3d\")\n",
    "ax.axis(\"off\")\n",
    "ax.scatter(x, y, z, c=\"b\")\n",
    "ax.scatter(X, Y, Z, c=\"r\")\n",
    "\n",
    "for edge in EDGES:\n",
    "    x = edge[:, 0]\n",
    "    y = edge[:, 1]\n",
    "    z = edge[:, 2]\n",
    "    ax.plot(x, y, z, c=\"r\")\n",
    "\n",
    "for edge in edges:\n",
    "    x = edge[:, 0]\n",
    "    y = edge[:, 1]\n",
    "    z = edge[:, 2]\n",
    "    ax.plot(x, y, z, c=\"b\")\n",
    "\n",
    "plt.savefig(\"first-projection.png\")\n",
    "plt.show()"
   ]
  },
  {
   "cell_type": "code",
   "execution_count": null,
   "metadata": {
    "collapsed": true
   },
   "outputs": [],
   "source": []
  }
 ],
 "metadata": {
  "anaconda-cloud": {},
  "hide_input": false,
  "kernelspec": {
   "display_name": "Python [default]",
   "language": "python",
   "name": "python3"
  },
  "language_info": {
   "codemirror_mode": {
    "name": "ipython",
    "version": 3
   },
   "file_extension": ".py",
   "mimetype": "text/x-python",
   "name": "python",
   "nbconvert_exporter": "python",
   "pygments_lexer": "ipython3",
   "version": "3.5.2"
  }
 },
 "nbformat": 4,
 "nbformat_minor": 2
}
